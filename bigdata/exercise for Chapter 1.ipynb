{
 "cells": [
  {
   "cell_type": "markdown",
   "id": "3ff8b320",
   "metadata": {},
   "source": [
    "1.REVIEW THE supplements given for you and other resources about python as much as you can.\n"
   ]
  },
  {
   "cell_type": "markdown",
   "id": "9dc8487c",
   "metadata": {},
   "source": [
    "[Python 3.10.2 說明文件](https://docs.python.org/zh-tw/3/ \"Title\")  \n",
    "[Python Programming Language - GeeksforGeeks](https://www.geeksforgeeks.org/python-programming-language/ \"Title\")"
   ]
  },
  {
   "cell_type": "markdown",
   "id": "f3f03106",
   "metadata": {},
   "source": [
    "2.Write a function to calculate the sum from 1 to a given number, e.g., 50, and return its outcome. Can you write the code with a given n instead of a fixed n (50)?\n",
    "Other kind of problems"
   ]
  },
  {
   "cell_type": "code",
   "execution_count": 9,
   "id": "7f117d8f",
   "metadata": {},
   "outputs": [
    {
     "name": "stdout",
     "output_type": "stream",
     "text": [
      "input a number:50\n",
      "sum=1275\n"
     ]
    }
   ],
   "source": [
    "def sum(x):\n",
    "    s = 0\n",
    "    for i in range(1, x+1):\n",
    "        s += i\n",
    "    print(\"sum={}\".format(s))\n",
    "    \n",
    "x = int(input(\"input a number:\"))\n",
    "sum(x)"
   ]
  },
  {
   "cell_type": "markdown",
   "id": "c767dca9",
   "metadata": {},
   "source": [
    "3. 寫一個字串的 string_to_list 函數:\n",
    "輸入 : 'I am a good man'\n",
    "輸出: [ 'I',' ', 'a', 'm',' ', 'a',' ', 'g', 'o', 'o', 'd',' ', 'm', 'a', 'n']"
   ]
  },
  {
   "cell_type": "code",
   "execution_count": 7,
   "id": "79c8d92e",
   "metadata": {},
   "outputs": [
    {
     "name": "stdout",
     "output_type": "stream",
     "text": [
      "input a string : I am a good man\n",
      "['I', ' ', 'a', 'm', ' ', 'a', ' ', 'g', 'o', 'o', 'd', ' ', 'm', 'a', 'n']\n"
     ]
    }
   ],
   "source": [
    "def string_to_list(s):\n",
    "    list_string = list()\n",
    "    for i in s:\n",
    "        list_string.append(i)\n",
    "    print(list_string)\n",
    "\n",
    "s = input(\"input a string : \")\n",
    "#string = \"I am a good man\"\n",
    "string_to_list(s)"
   ]
  },
  {
   "cell_type": "markdown",
   "id": "5014bb87",
   "metadata": {},
   "source": [
    "4. 寫一個將 list 字元變回字串的函數。類似 join:\n",
    "輸入:[ 'I',' ', 'a', 'm',' ', 'a',' ', 'g', 'o', 'o', 'd',' ', 'm', 'a', 'n']\n",
    "輸出: 'I am a good man'"
   ]
  },
  {
   "cell_type": "code",
   "execution_count": 10,
   "id": "b626dadd",
   "metadata": {},
   "outputs": [
    {
     "name": "stdout",
     "output_type": "stream",
     "text": [
      "I am a good man\n"
     ]
    }
   ],
   "source": [
    "def list_to_string(i):\n",
    "    s = \"\"\n",
    "    for j in i:\n",
    "        s = s + j\n",
    "    print(s)\n",
    "\n",
    "lists = ['I',' ', 'a', 'm',' ', 'a',' ', 'g', 'o', 'o', 'd',' ', 'm', 'a', 'n']\n",
    "list_to_string(lists)"
   ]
  },
  {
   "cell_type": "markdown",
   "id": "2dc45f95",
   "metadata": {},
   "source": [
    "5. 請將['Company1','Company2','Company3'] 變成 ['Company_1', 'Company_2','Company _3'.\n",
    "(這個題目很實用,許多時候我們拿到的資料會有空格,但變數命名不允許空格,可以用這個方法解決!)\n",
    "For more experienced programmer with python"
   ]
  },
  {
   "cell_type": "code",
   "execution_count": 4,
   "id": "7fe88236",
   "metadata": {},
   "outputs": [
    {
     "name": "stdout",
     "output_type": "stream",
     "text": [
      "['Company_1', 'Company_2', 'Company_3']\n"
     ]
    }
   ],
   "source": [
    "lists = ['Company 1','Company 2','Company 3']\n",
    "\n",
    "for i,v in enumerate(lists):\n",
    "    lists[i] = v.replace(\" \",\"_\")\n",
    "    \n",
    "print(lists)"
   ]
  },
  {
   "cell_type": "markdown",
   "id": "c52f0eb1",
   "metadata": {},
   "source": [
    "6. Find an alternative way to write a Fibonacci sequence function calc_fib(n) given in Chapter 1. The one given in the Chapter 1 causes too much calculation burden when the n is large ( you may check if the outcome is retuned at once. This exercise ask you to give some fixed n and return with its sequence; the second object is to use some other way to rewrite the code with better calculation speed."
   ]
  },
  {
   "cell_type": "code",
   "execution_count": 5,
   "id": "e5bf47cc",
   "metadata": {},
   "outputs": [
    {
     "name": "stdout",
     "output_type": "stream",
     "text": [
      "input a number:10\n",
      "[0, 1, 1, 2, 3, 5, 8, 13, 21, 34]\n"
     ]
    }
   ],
   "source": [
    "def calc_fib(x):\n",
    "    \n",
    "    fib_list = list()\n",
    "    \n",
    "    if x == 0:\n",
    "        fib_list.append(0)\n",
    "        return fib_list\n",
    "    elif x == 1:\n",
    "        fib_list.append(0)\n",
    "        fib_list.append(1)\n",
    "        return fib_list\n",
    "    else:\n",
    "        fib_list.append(0)\n",
    "        fib_list.append(1)\n",
    "         \n",
    "    for i in range(2, x): \n",
    "        fib_list.append(fib_list[i - 1] + fib_list[i - 2])\n",
    "        \n",
    "    return fib_list\n",
    "\n",
    "fib = int(input(\"input a number:\"))\n",
    "lists = calc_fib(fib)\n",
    "print(lists)"
   ]
  },
  {
   "cell_type": "markdown",
   "id": "09d0b261",
   "metadata": {},
   "source": [
    "7. To show all the prime numbers existed between 1 to 10. ( A prime number is a positive natural number that can be divided by itself and 1 only)"
   ]
  },
  {
   "cell_type": "code",
   "execution_count": 6,
   "id": "2a897ff2",
   "metadata": {},
   "outputs": [
    {
     "name": "stdout",
     "output_type": "stream",
     "text": [
      "1\n",
      "2\n",
      "3\n",
      "5\n",
      "7\n"
     ]
    }
   ],
   "source": [
    "def is_prim(n):\n",
    "    for j in range(2,n):\n",
    "        if n % j == 0:\n",
    "            return False\n",
    "    return True\n",
    "\n",
    "for i in range(1, 11):\n",
    "    if is_prim(i):\n",
    "        print(i)"
   ]
  },
  {
   "cell_type": "markdown",
   "id": "bc021c9e",
   "metadata": {},
   "source": [
    "8. Can the problem #4 be extended to some program that is given by fixed number N such that the program can show all the prime numbers in between? "
   ]
  },
  {
   "cell_type": "code",
   "execution_count": 12,
   "id": "b84448fb",
   "metadata": {},
   "outputs": [
    {
     "name": "stdout",
     "output_type": "stream",
     "text": [
      "input a number:10\n",
      "1\n",
      "2\n",
      "3\n",
      "5\n",
      "7\n"
     ]
    }
   ],
   "source": [
    "def is_prim(n):\n",
    "    for j in range(2,n):\n",
    "        if n % j == 0:\n",
    "            return False\n",
    "    return True\n",
    "\n",
    "def list_to_string(i):\n",
    "    s = 0\n",
    "    for j in i:\n",
    "        if is_prim(j):\n",
    "            print(j)\n",
    "\n",
    "n = int(input(\"input a number:\"))\n",
    "list_to_string(list(range(1,n+1)))"
   ]
  },
  {
   "cell_type": "code",
   "execution_count": null,
   "id": "593514dc",
   "metadata": {},
   "outputs": [],
   "source": []
  }
 ],
 "metadata": {
  "kernelspec": {
   "display_name": "Python 3 (ipykernel)",
   "language": "python",
   "name": "python3"
  },
  "language_info": {
   "codemirror_mode": {
    "name": "ipython",
    "version": 3
   },
   "file_extension": ".py",
   "mimetype": "text/x-python",
   "name": "python",
   "nbconvert_exporter": "python",
   "pygments_lexer": "ipython3",
   "version": "3.9.7"
  }
 },
 "nbformat": 4,
 "nbformat_minor": 5
}
