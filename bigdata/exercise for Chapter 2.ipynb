{
 "cells": [
  {
   "cell_type": "markdown",
   "id": "d12361cb",
   "metadata": {},
   "source": [
    "1.Read Chapter2 yourself, we will just briefly go over Chapter 2 next week."
   ]
  },
  {
   "cell_type": "markdown",
   "id": "312429bb",
   "metadata": {},
   "source": [
    "2.Write a program to save a list with letters (字串包含字母或文字)by some variable and show its letter or characters one by one"
   ]
  },
  {
   "cell_type": "code",
   "execution_count": 1,
   "id": "00e0f899",
   "metadata": {},
   "outputs": [
    {
     "name": "stdout",
     "output_type": "stream",
     "text": [
      "input a string : I am a good man\n",
      "['I', ' ', 'a', 'm', ' ', 'a', ' ', 'g', 'o', 'o', 'd', ' ', 'm', 'a', 'n']\n"
     ]
    }
   ],
   "source": [
    "def string_to_list(s):\n",
    "    list_string = list()\n",
    "    for i in s:\n",
    "        list_string.append(i)\n",
    "    print(list_string)\n",
    "\n",
    "s = input(\"input a string : \")\n",
    "#string = \"I am a good man\"\n",
    "string_to_list(s)"
   ]
  },
  {
   "cell_type": "markdown",
   "id": "b8f966a6",
   "metadata": {},
   "source": [
    "3.Write a program to sum all the natural number between 1 and 50, and show its outcome eventually. Can you make a function so that given a N and it can sum all the natural numbers between 1 and N."
   ]
  },
  {
   "cell_type": "code",
   "execution_count": 6,
   "id": "f7a70d49",
   "metadata": {},
   "outputs": [
    {
     "name": "stdout",
     "output_type": "stream",
     "text": [
      "input a number:50\n",
      "sum=1275\n"
     ]
    }
   ],
   "source": [
    "#使用自訂函式\n",
    "def sum(x):\n",
    "    s = 0\n",
    "    for i in range(1, x+1):\n",
    "        s += i\n",
    "    print(\"sum={}\".format(s))\n",
    "    \n",
    "x = int(input(\"input a number:\"))\n",
    "sum(x)"
   ]
  },
  {
   "cell_type": "code",
   "execution_count": 13,
   "id": "d19c8457",
   "metadata": {},
   "outputs": [
    {
     "name": "stdout",
     "output_type": "stream",
     "text": [
      "input a number : 10\n",
      "Sum : 55\n"
     ]
    }
   ],
   "source": [
    "#利用numpy函式\n",
    "import numpy as np\n",
    "print(\"Sum : {0}\".format(np.sum(np.arange(1, int(input(\"input a number : \")) + 1))))"
   ]
  },
  {
   "cell_type": "markdown",
   "id": "ba5c2692",
   "metadata": {},
   "source": [
    "4.Work on the following exercises.<br> \n",
    "a.Try to find the prime numbers before 10.<br>\n",
    "b.Make a function which can find prime numbers between 1 and N where N is given arbitrary."
   ]
  },
  {
   "cell_type": "code",
   "execution_count": 5,
   "id": "33d96644",
   "metadata": {},
   "outputs": [
    {
     "name": "stdout",
     "output_type": "stream",
     "text": [
      "1\n",
      "2\n",
      "3\n",
      "5\n",
      "7\n"
     ]
    }
   ],
   "source": [
    "#a\n",
    "def is_prim(n):\n",
    "    for j in range(2,n):\n",
    "        if n % j == 0:\n",
    "            return False\n",
    "    return True\n",
    "\n",
    "for i in range(1, 11):\n",
    "    if is_prim(i):\n",
    "        print(i)"
   ]
  },
  {
   "cell_type": "code",
   "execution_count": 4,
   "id": "b1d1c3a1",
   "metadata": {},
   "outputs": [
    {
     "name": "stdout",
     "output_type": "stream",
     "text": [
      "input a number:10\n",
      "1\n",
      "2\n",
      "3\n",
      "5\n",
      "7\n"
     ]
    }
   ],
   "source": [
    "#b\n",
    "def is_prim(n):\n",
    "    for j in range(2,n):\n",
    "        if n % j == 0:\n",
    "            return False\n",
    "    return True\n",
    "\n",
    "n = int(input(\"input a number:\"))\n",
    "for i in range(1, n):\n",
    "    if is_prim(i):\n",
    "        print(i)"
   ]
  },
  {
   "cell_type": "code",
   "execution_count": null,
   "id": "479f0e5e",
   "metadata": {},
   "outputs": [],
   "source": []
  }
 ],
 "metadata": {
  "kernelspec": {
   "display_name": "Python 3 (ipykernel)",
   "language": "python",
   "name": "python3"
  },
  "language_info": {
   "codemirror_mode": {
    "name": "ipython",
    "version": 3
   },
   "file_extension": ".py",
   "mimetype": "text/x-python",
   "name": "python",
   "nbconvert_exporter": "python",
   "pygments_lexer": "ipython3",
   "version": "3.9.7"
  }
 },
 "nbformat": 4,
 "nbformat_minor": 5
}
